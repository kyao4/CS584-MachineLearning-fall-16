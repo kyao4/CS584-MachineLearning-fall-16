{
 "cells": [
  {
   "cell_type": "code",
   "execution_count": 72,
   "metadata": {
    "collapsed": false,
    "scrolled": true
   },
   "outputs": [
    {
     "name": "stdout",
     "output_type": "stream",
     "text": [
      "#, Name, Type 1, Type 2, Total, HP, Attack, Defense, Sp. Atk, Sp. Def, Speed, Generation\n",
      "the number of instances:796 number of features:12\n"
     ]
    }
   ],
   "source": [
    "#load data from CSV file.\n",
    "import numpy as np\n",
    "import csv\n",
    "with open('Pokemon.csv', 'rt', encoding='utf-8') as fin:\n",
    "    cin = csv.reader(fin)\n",
    "    pokemons = [row for row in cin]\n",
    "    attri = pokemons[0]\n",
    "    attri_dict = {attri:i for attri, i in zip(pokemons[0], range(len(pokemons[0])))}\n",
    "    del pokemons[0]\n",
    "print(\", \".join(attri))\n",
    "print(\"the number of instances:%i number of features:%i\" % (len(pokemons), len(attri)))\n",
    "# data only contain the attributes and the data we are interested in."
   ]
  },
  {
   "cell_type": "code",
   "execution_count": 73,
   "metadata": {
    "collapsed": false
   },
   "outputs": [
    {
     "data": {
      "image/png": "[encoded data removed]",
      "text/plain": [
       "<matplotlib.figure.Figure at 0x174f418df60>"
      ]
     },
     "metadata": {},
     "output_type": "display_data"
    }
   ],
   "source": [
    "#plot target with bar chart.\n",
    "%matplotlib inline\n",
    "from collections import Counter\n",
    "import matplotlib.pyplot as plt\n",
    "gen_c = Counter()\n",
    "for pokemon in pokemons:\n",
    "    gen = int(pokemon[attri_dict['Generation']])\n",
    "    gen_c.update([gen]) \n",
    "vals = sorted(gen_c.keys())\n",
    "plt.bar(vals, gen_c.values())\n",
    "plt.xticks(vals)\n",
    "plt.xlabel('Generation')\n",
    "plt.ylabel('count')\n",
    "plt.show()"
   ]
  },
  {
   "cell_type": "code",
   "execution_count": 74,
   "metadata": {
    "collapsed": false
   },
   "outputs": [
    {
     "name": "stdout",
     "output_type": "stream",
     "text": [
      "ID: means 1.110 variance: 0.162\n"
     ]
    }
   ],
   "source": [
    "# we are not interested in ID, so we can just print the statistics for it.\n",
    "c = Counter()\n",
    "for pokemon in pokemons:\n",
    "    my_attri = int(pokemon[attri_dict['#']])\n",
    "    c.update([my_attri]) \n",
    "vals = np.array(list(c.values()))\n",
    "print(\"ID: means %.3f variance: %.3f\" % (np.mean(vals), np.var(vals)))"
   ]
  },
  {
   "cell_type": "code",
   "execution_count": 75,
   "metadata": {
    "collapsed": false
   },
   "outputs": [
    {
     "name": "stdout",
     "output_type": "stream",
     "text": [
      "Name: means 1.000 variance: 0.000\n"
     ]
    }
   ],
   "source": [
    "# we are not interested in Name, so we can just print the statistics for it.\n",
    "c = Counter()\n",
    "for pokemon in pokemons:\n",
    "    my_attri = str(pokemon[attri_dict['Name']])\n",
    "    c.update([my_attri]) \n",
    "vals = np.array(list(c.values()))\n",
    "print(\"Name: means %.3f variance: %.3f\" % (np.mean(vals), np.var(vals)))"
   ]
  },
  {
   "cell_type": "code",
   "execution_count": 80,
   "metadata": {
    "collapsed": false
   },
   "outputs": [
    {
     "data": {
      "image/png": "[encoded data removed]",
      "text/plain": [
       "<matplotlib.figure.Figure at 0x174f4121b38>"
      ]
     },
     "metadata": {},
     "output_type": "display_data"
    },
    {
     "name": "stdout",
     "output_type": "stream",
     "text": [
      "('Water', 112)\n",
      "('Normal', 97)\n",
      "('Grass', 70)\n",
      "('Bug', 69)\n",
      "('Psychic', 57)\n",
      "('Fire', 51)\n",
      "('Electric', 44)\n",
      "('Rock', 44)\n",
      "('Ground', 32)\n",
      "('Ghost', 32)\n",
      "('Dragon', 31)\n",
      "('Dark', 31)\n",
      "('Steel', 27)\n",
      "('Fighting', 27)\n",
      "('Poison', 27)\n",
      "('Ice', 24)\n",
      "('Fairy', 17)\n",
      "('Flying', 4)\n",
      "Name: means 44.222 variance: 731.840\n"
     ]
    }
   ],
   "source": [
    "#plot type1 with bar chart.\n",
    "%matplotlib inline\n",
    "from collections import Counter\n",
    "import matplotlib.pyplot as plt\n",
    "c = Counter()\n",
    "for pokemon in pokemons:\n",
    "    my_attri = str(pokemon[attri_dict['Type 1']])\n",
    "    c.update([my_attri]) \n",
    "index = np.array(range(len(c)))\n",
    "# width = 0.35\n",
    "plt.bar(index, c.values())\n",
    "# plt.xticks(index + width/2., [item for item in c.keys()])\n",
    "plt.xlabel('Type 1')\n",
    "plt.ylabel('count')\n",
    "plt.show()\n",
    "names = sorted(c.items(), key=lambda x: -x[1])\n",
    "for name in names:\n",
    "    print(name)\n",
    "print(\"Name: means %.3f variance: %.3f\" % (np.mean(list(c.values())), np.var(list(c.values()))))"
   ]
  },
  {
   "cell_type": "code",
   "execution_count": 77,
   "metadata": {
    "collapsed": false
   },
   "outputs": [
    {
     "data": {
      "image/png": "[encoded data removed]",
      "text/plain": [
       "<matplotlib.figure.Figure at 0x174f34e8668>"
      ]
     },
     "metadata": {},
     "output_type": "display_data"
    },
    {
     "name": "stdout",
     "output_type": "stream",
     "text": [
      "(\"'?'\", 384)\n",
      "('Flying', 96)\n",
      "('Poison', 34)\n",
      "('Ground', 34)\n",
      "('Psychic', 33)\n",
      "('Fighting', 26)\n",
      "('Grass', 25)\n",
      "('Fairy', 23)\n",
      "('Steel', 22)\n",
      "('Dark', 20)\n",
      "('Dragon', 18)\n",
      "('Water', 14)\n",
      "('Ghost', 14)\n",
      "('Rock', 14)\n",
      "('Ice', 14)\n",
      "('Fire', 12)\n",
      "('Electric', 6)\n",
      "('Normal', 4)\n",
      "('Bug', 3)\n",
      "Name: means 41.895 variance: 6881.673\n"
     ]
    }
   ],
   "source": [
    "#plot type2 with bar chart.\n",
    "%matplotlib inline\n",
    "from collections import Counter\n",
    "import matplotlib.pyplot as plt\n",
    "c = Counter()\n",
    "for pokemon in pokemons:\n",
    "    my_attri = str(pokemon[attri_dict['Type 2']])\n",
    "    c.update([my_attri]) \n",
    "index = np.array(range(len(c)))\n",
    "# width = 0.35\n",
    "plt.bar(index, c.values())\n",
    "# plt.xticks(index + width/2., [item for item in c.keys()])\n",
    "plt.xlabel('Type 2')\n",
    "plt.ylabel('count')\n",
    "plt.show()\n",
    "names = sorted(c.items(), key=lambda x: -x[1])\n",
    "for name in names:\n",
    "    print(name)\n",
    "print(\"Name: means %.3f variance: %.3f\" % (np.mean(list(c.values())), np.var(list(c.values()))))"
   ]
  },
  {
   "cell_type": "code",
   "execution_count": null,
   "metadata": {
    "collapsed": true
   },
   "outputs": [],
   "source": []
  }
 ],
 "metadata": {
  "anaconda-cloud": {},
  "kernelspec": {
   "display_name": "Python [Root]",
   "language": "python",
   "name": "Python [Root]"
  },
  "language_info": {
   "codemirror_mode": {
    "name": "ipython",
    "version": 3
   },
   "file_extension": ".py",
   "mimetype": "text/x-python",
   "name": "python",
   "nbconvert_exporter": "python",
   "pygments_lexer": "ipython3",
   "version": "3.5.2"
  }
 },
 "nbformat": 4,
 "nbformat_minor": 0
}
