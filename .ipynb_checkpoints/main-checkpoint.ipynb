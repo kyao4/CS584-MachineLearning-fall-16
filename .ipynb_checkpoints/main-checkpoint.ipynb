{
 "cells": [
  {
   "cell_type": "code",
   "execution_count": 15,
   "metadata": {
    "collapsed": false,
    "scrolled": true
   },
   "outputs": [
    {
     "name": "stdout",
     "output_type": "stream",
     "text": [
      "#, Name, Type 1, Type 2, Total, HP, Attack, Defense, Sp. Atk, Sp. Def, Speed, Generation\n",
      "the number of instances:796 number of features:12\n"
     ]
    }
   ],
   "source": [
    "#load data from CSV file.\n",
    "import numpy as np\n",
    "import csv\n",
    "with open('Pokemon.csv', 'rt', encoding='utf-8') as fin:\n",
    "    cin = csv.reader(fin)\n",
    "    pokemons = [row for row in cin]\n",
    "    attri = pokemons[0]\n",
    "    attri_dict = {attri:i for attri, i in zip(pokemons[0], range(len(pokemons[0])))}\n",
    "    del pokemons[0]\n",
    "print(\", \".join(attri))\n",
    "print(\"the number of instances:%i number of features:%i\" % (len(pokemons), len(attri)))\n",
    "# data only contain the attributes and the data we are interested in."
   ]
  },
  {
   "cell_type": "code",
   "execution_count": 16,
   "metadata": {
    "collapsed": false
   },
   "outputs": [
    {
     "data": {
      "image/png": "[encoded data removed]",
      "text/plain": [
       "<matplotlib.figure.Figure at 0x1e0575fd048>"
      ]
     },
     "metadata": {},
     "output_type": "display_data"
    },
    {
     "name": "stdout",
     "output_type": "stream",
     "text": [
      "Generation: mean 3.500 variance: 2.917\n"
     ]
    },
    {
     "data": {
      "image/png": "[encoded data removed]",
      "text/plain": [
       "<matplotlib.figure.Figure at 0x1e0582e4fd0>"
      ]
     },
     "metadata": {},
     "output_type": "display_data"
    }
   ],
   "source": [
    "#plot target with bar chart.\n",
    "%matplotlib inline\n",
    "from collections import Counter\n",
    "import matplotlib.pyplot as plt\n",
    "gen_c = Counter()\n",
    "for pokemon in pokemons:\n",
    "    gen = int(pokemon[attri_dict['Generation']])\n",
    "    gen_c.update([gen]) \n",
    "vals = sorted(gen_c.keys())\n",
    "plt.bar(vals, gen_c.values())\n",
    "plt.xticks(vals)\n",
    "plt.xlabel('Generation')\n",
    "plt.ylabel('count')\n",
    "plt.show()\n",
    "print(\"Generation: mean %.3f variance: %.3f\" % (np.mean(vals), np.var(vals)))\n",
    "plt.boxplot(list(gen_c.values()))\n",
    "plt.show()"
   ]
  },
  {
   "cell_type": "code",
   "execution_count": 17,
   "metadata": {
    "collapsed": false
   },
   "outputs": [
    {
     "name": "stdout",
     "output_type": "stream",
     "text": [
      "ID: mean 1.110 variance: 0.162\n"
     ]
    }
   ],
   "source": [
    "# we are not interested in ID, so we can just print the statistics for it.\n",
    "c = Counter()\n",
    "for pokemon in pokemons:\n",
    "    my_attri = int(pokemon[attri_dict['#']])\n",
    "    c.update([my_attri]) \n",
    "vals = np.array(list(c.values()))\n",
    "print(\"ID: mean %.3f variance: %.3f\" % (np.mean(vals), np.var(vals)))"
   ]
  },
  {
   "cell_type": "code",
   "execution_count": 18,
   "metadata": {
    "collapsed": false
   },
   "outputs": [
    {
     "name": "stdout",
     "output_type": "stream",
     "text": [
      "Name: mean 1.000 variance: 0.000\n"
     ]
    }
   ],
   "source": [
    "# we are not interested in Name, so we can just print the statistics for it.\n",
    "c = Counter()\n",
    "for pokemon in pokemons:\n",
    "    my_attri = str(pokemon[attri_dict['Name']])\n",
    "    c.update([my_attri]) \n",
    "vals = np.array(list(c.values()))\n",
    "print(\"Name: mean %.3f variance: %.3f\" % (np.mean(vals), np.var(vals)))"
   ]
  },
  {
   "cell_type": "code",
   "execution_count": 19,
   "metadata": {
    "collapsed": false
   },
   "outputs": [
    {
     "data": {
      "image/png": "[encoded data removed]",
      "text/plain": [
       "<matplotlib.figure.Figure at 0x1e058205e10>"
      ]
     },
     "metadata": {},
     "output_type": "display_data"
    },
    {
     "name": "stdout",
     "output_type": "stream",
     "text": [
      "('Water', 112)\n",
      "('Normal', 97)\n",
      "('Grass', 70)\n",
      "('Bug', 69)\n",
      "('Psychic', 57)\n",
      "('Fire', 51)\n",
      "('Rock', 44)\n",
      "('Electric', 44)\n",
      "('Ghost', 32)\n",
      "('Ground', 32)\n",
      "('Dark', 31)\n",
      "('Dragon', 31)\n",
      "('Fighting', 27)\n",
      "('Steel', 27)\n",
      "('Poison', 27)\n",
      "('Ice', 24)\n",
      "('Fairy', 17)\n",
      "('Flying', 4)\n",
      "Name: mean 44.222 variance: 731.840\n"
     ]
    }
   ],
   "source": [
    "#plot type1 with bar chart.\n",
    "%matplotlib inline\n",
    "from collections import Counter\n",
    "import matplotlib.pyplot as plt\n",
    "c = Counter()\n",
    "for pokemon in pokemons:\n",
    "    my_attri = str(pokemon[attri_dict['Type 1']])\n",
    "    c.update([my_attri]) \n",
    "index = np.array(range(len(c)))\n",
    "# width = 0.35\n",
    "plt.bar(index, c.values())\n",
    "# plt.xticks(index + width/2., [item for item in c.keys()])\n",
    "plt.xlabel('Type 1')\n",
    "plt.ylabel('count')\n",
    "plt.show()\n",
    "names = sorted(c.items(), key=lambda x: -x[1])\n",
    "for name in names:\n",
    "    print(name)\n",
    "print(\"Name: mean %.3f variance: %.3f\" % (np.mean(list(c.values())), np.var(list(c.values()))))"
   ]
  },
  {
   "cell_type": "code",
   "execution_count": 20,
   "metadata": {
    "collapsed": false
   },
   "outputs": [
    {
     "data": {
      "image/png": "[encoded data removed]",
      "text/plain": [
       "<matplotlib.figure.Figure at 0x1e05758d2e8>"
      ]
     },
     "metadata": {},
     "output_type": "display_data"
    },
    {
     "name": "stdout",
     "output_type": "stream",
     "text": [
      "(\"'?'\", 384)\n",
      "('Flying', 96)\n",
      "('Ground', 34)\n",
      "('Poison', 34)\n",
      "('Psychic', 33)\n",
      "('Fighting', 26)\n",
      "('Grass', 25)\n",
      "('Fairy', 23)\n",
      "('Steel', 22)\n",
      "('Dark', 20)\n",
      "('Dragon', 18)\n",
      "('Ice', 14)\n",
      "('Ghost', 14)\n",
      "('Water', 14)\n",
      "('Rock', 14)\n",
      "('Fire', 12)\n",
      "('Electric', 6)\n",
      "('Normal', 4)\n",
      "('Bug', 3)\n",
      "Name: mean 41.895 variance: 6881.673\n"
     ]
    }
   ],
   "source": [
    "#plot type2 with bar chart.\n",
    "%matplotlib inline\n",
    "from collections import Counter\n",
    "import matplotlib.pyplot as plt\n",
    "c = Counter()\n",
    "for pokemon in pokemons:\n",
    "    my_attri = str(pokemon[attri_dict['Type 2']])\n",
    "    c.update([my_attri]) \n",
    "index = np.array(range(len(c)))\n",
    "# width = 0.35\n",
    "plt.bar(index, c.values())\n",
    "# plt.xticks(index + width/2., [item for item in c.keys()])\n",
    "plt.xlabel('Type 2')\n",
    "plt.ylabel('count')\n",
    "plt.show()\n",
    "names = sorted(c.items(), key=lambda x: -x[1])\n",
    "for name in names:\n",
    "    print(name)\n",
    "print(\"Name: mean %.3f variance: %.3f\" % (np.mean(list(c.values())), np.var(list(c.values()))))"
   ]
  },
  {
   "cell_type": "code",
   "execution_count": 21,
   "metadata": {
    "collapsed": false
   },
   "outputs": [
    {
     "data": {
      "image/png": "[encoded data removed]",
      "text/plain": [
       "<matplotlib.figure.Figure at 0x1e057ed8860>"
      ]
     },
     "metadata": {},
     "output_type": "display_data"
    },
    {
     "name": "stdout",
     "output_type": "stream",
     "text": [
      "Total: mean 4.000 variance: 24.312\n"
     ]
    }
   ],
   "source": [
    "#plot Total with bar chart.\n",
    "%matplotlib inline\n",
    "from collections import Counter\n",
    "import matplotlib.pyplot as plt\n",
    "c = Counter()\n",
    "for pokemon in pokemons:\n",
    "    my_attri = int(pokemon[attri_dict['Total']])\n",
    "    c.update([my_attri]) \n",
    "plt.hist(list(c.values()), bins=50)\n",
    "plt.xlabel('Total')\n",
    "plt.ylabel('count')\n",
    "plt.show()\n",
    "print(\"Total: mean %.3f variance: %.3f\" % (np.mean(list(c.values())), np.var(list(c.values()))))\n",
    "\n",
    "# plt.boxplot(list(c.values()))\n",
    "# plt.show()"
   ]
  },
  {
   "cell_type": "code",
   "execution_count": 22,
   "metadata": {
    "collapsed": false
   },
   "outputs": [
    {
     "data": {
      "image/png": "[encoded data removed]",
      "text/plain": [
       "<matplotlib.figure.Figure at 0x1e0580c9f60>"
      ]
     },
     "metadata": {},
     "output_type": "display_data"
    },
    {
     "name": "stdout",
     "output_type": "stream",
     "text": [
      "HP: means 8.468 variance: 203.228\n"
     ]
    }
   ],
   "source": [
    "#plot HP with bar chart.\n",
    "%matplotlib inline\n",
    "from collections import Counter\n",
    "import matplotlib.pyplot as plt\n",
    "c = Counter()\n",
    "for pokemon in pokemons:\n",
    "    my_attri = int(pokemon[attri_dict['HP']])\n",
    "    c.update([my_attri]) \n",
    "plt.hist(list(c.values()), bins=50)\n",
    "plt.xlabel('HP')\n",
    "plt.ylabel('count')\n",
    "plt.show()\n",
    "print(\"HP: means %.3f variance: %.3f\" % (np.mean(list(c.values())), np.var(list(c.values()))))\n",
    "\n",
    "# plt.boxplot(list(c.values()))\n",
    "# plt.show()"
   ]
  },
  {
   "cell_type": "code",
   "execution_count": 23,
   "metadata": {
    "collapsed": false
   },
   "outputs": [
    {
     "data": {
      "image/png": "[encoded data removed]",
      "text/plain": [
       "<matplotlib.figure.Figure at 0x1e0582f1668>"
      ]
     },
     "metadata": {},
     "output_type": "display_data"
    },
    {
     "name": "stdout",
     "output_type": "stream",
     "text": [
      "Attack: means 7.171 variance: 99.331\n"
     ]
    }
   ],
   "source": [
    "#plot Attack with bar chart.\n",
    "%matplotlib inline\n",
    "from collections import Counter\n",
    "import matplotlib.pyplot as plt\n",
    "c = Counter()\n",
    "for pokemon in pokemons:\n",
    "    my_attri = int(pokemon[attri_dict['Attack']])\n",
    "    c.update([my_attri]) \n",
    "plt.hist(list(c.values()), bins=50)\n",
    "plt.xlabel('Attack')\n",
    "plt.ylabel('count')\n",
    "plt.show()\n",
    "print(\"Attack: means %.3f variance: %.3f\" % (np.mean(list(c.values())), np.var(list(c.values()))))\n",
    "\n",
    "# plt.boxplot(list(c.values()))\n",
    "# plt.show()"
   ]
  },
  {
   "cell_type": "code",
   "execution_count": 24,
   "metadata": {
    "collapsed": false
   },
   "outputs": [
    {
     "data": {
      "image/png": "[encoded data removed]",
      "text/plain": [
       "<matplotlib.figure.Figure at 0x1e0582f85c0>"
      ]
     },
     "metadata": {},
     "output_type": "display_data"
    },
    {
     "name": "stdout",
     "output_type": "stream",
     "text": [
      "Defense: means 7.804 variance: 138.197\n"
     ]
    }
   ],
   "source": [
    "#plot Defense with bar chart.\n",
    "%matplotlib inline\n",
    "from collections import Counter\n",
    "import matplotlib.pyplot as plt\n",
    "c = Counter()\n",
    "for pokemon in pokemons:\n",
    "    my_attri = int(pokemon[attri_dict['Defense']])\n",
    "    c.update([my_attri]) \n",
    "plt.hist(list(c.values()), bins=50)\n",
    "plt.xlabel('Defense')\n",
    "plt.ylabel('count')\n",
    "plt.show()\n",
    "print(\"Defense: means %.3f variance: %.3f\" % (np.mean(list(c.values())), np.var(list(c.values()))))\n",
    "\n",
    "# plt.boxplot(list(c.values()))\n",
    "# plt.show()"
   ]
  },
  {
   "cell_type": "code",
   "execution_count": 25,
   "metadata": {
    "collapsed": false
   },
   "outputs": [
    {
     "data": {
      "image/png": "[encoded data removed]",
      "text/plain": [
       "<matplotlib.figure.Figure at 0x1e0580c4b38>"
      ]
     },
     "metadata": {},
     "output_type": "display_data"
    },
    {
     "name": "stdout",
     "output_type": "stream",
     "text": [
      "Sp. Atk: means 7.581 variance: 122.301\n"
     ]
    }
   ],
   "source": [
    "#plot Sp. Atk with bar chart.\n",
    "%matplotlib inline\n",
    "from collections import Counter\n",
    "import matplotlib.pyplot as plt\n",
    "c = Counter()\n",
    "for pokemon in pokemons:\n",
    "    my_attri = int(pokemon[attri_dict['Sp. Atk']])\n",
    "    c.update([my_attri]) \n",
    "plt.hist(list(c.values()), bins=50)\n",
    "plt.xlabel('Sp. Atk')\n",
    "plt.ylabel('count')\n",
    "plt.show()\n",
    "print(\"Sp. Atk: means %.3f variance: %.3f\" % (np.mean(list(c.values())), np.var(list(c.values()))))\n",
    "\n",
    "# plt.boxplot(list(c.values()))\n",
    "# plt.show()"
   ]
  },
  {
   "cell_type": "code",
   "execution_count": 26,
   "metadata": {
    "collapsed": false
   },
   "outputs": [
    {
     "data": {
      "image/png": "[encoded data removed]",
      "text/plain": [
       "<matplotlib.figure.Figure at 0x1e057ed8cc0>"
      ]
     },
     "metadata": {},
     "output_type": "display_data"
    },
    {
     "name": "stdout",
     "output_type": "stream",
     "text": [
      "Sp. Def: means 8.652 variance: 170.618\n"
     ]
    }
   ],
   "source": [
    "#plot Sp. Def with bar chart.\n",
    "%matplotlib inline\n",
    "from collections import Counter\n",
    "import matplotlib.pyplot as plt\n",
    "c = Counter()\n",
    "for pokemon in pokemons:\n",
    "    my_attri = int(pokemon[attri_dict['Sp. Def']])\n",
    "    c.update([my_attri]) \n",
    "plt.hist(list(c.values()), bins=50)\n",
    "plt.xlabel('Sp. Def')\n",
    "plt.ylabel('count')\n",
    "plt.show()\n",
    "print(\"Sp. Def: means %.3f variance: %.3f\" % (np.mean(list(c.values())), np.var(list(c.values()))))\n",
    "\n",
    "# plt.boxplot(list(c.values()))\n",
    "# plt.show()"
   ]
  },
  {
   "cell_type": "code",
   "execution_count": 27,
   "metadata": {
    "collapsed": false
   },
   "outputs": [
    {
     "data": {
      "image/png": "[encoded data removed]",
      "text/plain": [
       "<matplotlib.figure.Figure at 0x1e058298f60>"
      ]
     },
     "metadata": {},
     "output_type": "display_data"
    },
    {
     "name": "stdout",
     "output_type": "stream",
     "text": [
      "Speed: means 7.370 variance: 108.029\n"
     ]
    }
   ],
   "source": [
    "#plot Sp. Def with bar chart.\n",
    "%matplotlib inline\n",
    "from collections import Counter\n",
    "import matplotlib.pyplot as plt\n",
    "c = Counter()\n",
    "for pokemon in pokemons:\n",
    "    my_attri = int(pokemon[attri_dict['Speed']])\n",
    "    c.update([my_attri]) \n",
    "plt.hist(list(c.values()), bins=50)\n",
    "plt.xlabel('Speed')\n",
    "plt.ylabel('count')\n",
    "plt.show()\n",
    "print(\"Speed: means %.3f variance: %.3f\" % (np.mean(list(c.values())), np.var(list(c.values()))))\n",
    "\n",
    "# plt.boxplot(list(c.values()))\n",
    "# plt.show()"
   ]
  },
  {
   "cell_type": "code",
   "execution_count": null,
   "metadata": {
    "collapsed": true
   },
   "outputs": [],
   "source": []
  }
 ],
 "metadata": {
  "anaconda-cloud": {},
  "kernelspec": {
   "display_name": "Python [Root]",
   "language": "python",
   "name": "Python [Root]"
  },
  "language_info": {
   "codemirror_mode": {
    "name": "ipython",
    "version": 3
   },
   "file_extension": ".py",
   "mimetype": "text/x-python",
   "name": "python",
   "nbconvert_exporter": "python",
   "pygments_lexer": "ipython3",
   "version": "3.5.2"
  }
 },
 "nbformat": 4,
 "nbformat_minor": 0
}
