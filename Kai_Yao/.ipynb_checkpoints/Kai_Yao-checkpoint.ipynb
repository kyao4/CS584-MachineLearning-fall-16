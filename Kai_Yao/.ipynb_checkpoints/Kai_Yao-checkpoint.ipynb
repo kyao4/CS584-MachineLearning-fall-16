{
 "cells": [
  {
   "cell_type": "markdown",
   "metadata": {},
   "source": [
    "#  Pokemon Generation Prediction"
   ]
  },
  {
   "cell_type": "markdown",
   "metadata": {},
   "source": [
    "Members: Kai Yao\n",
    "\n",
    "Dataset: [Pokemon](https://www.kaggle.com/abcsds/pokemon)\n",
    "\n",
    "Goal: predict the generation from attributes of each pokenmon.\n",
    "\n",
    "\n",
    "Description:\n",
    "I am going to use the dataset that I downloaded from kaggle. This is a pokemon dataset with attributes like the HP, CP, attack speed, defense speed, type, generation of the pokemon. I decided to use these attributes to predict the generation for the pokemons. In general, the higher HP or CP a pokemon has, the higher its generation is. We can use project to verify this assumption."
   ]
  },
  {
   "cell_type": "code",
   "execution_count": 44,
   "metadata": {
    "collapsed": false,
    "scrolled": true
   },
   "outputs": [
    {
     "name": "stdout",
     "output_type": "stream",
     "text": [
      "#, Name, Type 1, Type 2, Total, HP, Attack, Defense, Sp. Atk, Sp. Def, Speed, Generation\n",
      "the number of instances:800 number of features:12\n"
     ]
    }
   ],
   "source": [
    "#load data from CSV file.\n",
    "import numpy as np\n",
    "import csv\n",
    "with open('data/Pokemon_output.csv', 'rt', encoding='utf-8') as fin:\n",
    "    cin = csv.reader(fin)\n",
    "    pokemons = [row for row in cin]\n",
    "    attri = pokemons[0]\n",
    "    attri_dict = {attri:i for attri, i in zip(pokemons[0], range(len(pokemons[0])))}\n",
    "    del pokemons[0]\n",
    "print(\", \".join(attri))\n",
    "print(\"the number of instances:%i number of features:%i\" % (len(pokemons), len(attri)))\n",
    "# data only contain the attributes and the data we are interested in."
   ]
  },
  {
   "cell_type": "code",
   "execution_count": 45,
   "metadata": {
    "collapsed": false
   },
   "outputs": [
    {
     "data": {
      "image/png": "[encoded data removed]",
      "text/plain": [
       "<matplotlib.figure.Figure at 0x2039b2b3978>"
      ]
     },
     "metadata": {},
     "output_type": "display_data"
    },
    {
     "name": "stdout",
     "output_type": "stream",
     "text": [
      "Generation: mean 3.500 variance: 2.917\n"
     ]
    },
    {
     "data": {
      "image/png": "[encoded data removed]",
      "text/plain": [
       "<matplotlib.figure.Figure at 0x2039a1fc710>"
      ]
     },
     "metadata": {},
     "output_type": "display_data"
    }
   ],
   "source": [
    "#plot target with bar chart.\n",
    "%matplotlib inline\n",
    "from collections import Counter\n",
    "import matplotlib.pyplot as plt\n",
    "gen_c = Counter()\n",
    "for pokemon in pokemons:\n",
    "    gen = int(pokemon[attri_dict['Generation']])\n",
    "    gen_c.update([gen]) \n",
    "vals = sorted(gen_c.keys())\n",
    "plt.bar(vals, gen_c.values())\n",
    "plt.xticks(vals)\n",
    "plt.xlabel('Generation')\n",
    "plt.ylabel('count')\n",
    "plt.show()\n",
    "print(\"Generation: mean %.3f variance: %.3f\" % (np.mean(vals), np.var(vals)))\n",
    "plt.boxplot(list(gen_c.values()))\n",
    "plt.show()"
   ]
  },
  {
   "cell_type": "code",
   "execution_count": 46,
   "metadata": {
    "collapsed": false
   },
   "outputs": [
    {
     "name": "stdout",
     "output_type": "stream",
     "text": [
      "ID: mean 1.110 variance: 0.161\n"
     ]
    }
   ],
   "source": [
    "# we are not interested in ID, just plot the histgram for this attribute\n",
    "%matplotlib inline\n",
    "from collections import Counter\n",
    "import matplotlib.pyplot as plt\n",
    "c = Counter()\n",
    "for pokemon in pokemons:\n",
    "    my_attri = int(pokemon[attri_dict['#']])\n",
    "    c.update([my_attri]) \n",
    "vals = np.array(list(c.values()))\n",
    "# index = np.array(range(len(c)))\n",
    "# plt.bar(index, c.values())\n",
    "# plt.xlabel('ID')\n",
    "# plt.ylabel('count')\n",
    "# plt.show()\n",
    "print(\"ID: mean %.3f variance: %.3f\" % (np.mean(vals), np.var(vals)))"
   ]
  },
  {
   "cell_type": "code",
   "execution_count": 47,
   "metadata": {
    "collapsed": false
   },
   "outputs": [
    {
     "name": "stdout",
     "output_type": "stream",
     "text": [
      "Name: mean 1.000 variance: 0.000\n"
     ]
    }
   ],
   "source": [
    "#We are not interested in Name, because all the names are unique.\n",
    "%matplotlib inline\n",
    "from collections import Counter\n",
    "import matplotlib.pyplot as plt\n",
    "c = Counter()\n",
    "for pokemon in pokemons:\n",
    "    my_attri = str(pokemon[attri_dict['Name']])\n",
    "    c.update([my_attri]) \n",
    "# index = np.array(range(len(c)))\n",
    "# plt.bar(index, c.values())\n",
    "# plt.xlabel('Name')\n",
    "# plt.ylabel('count')\n",
    "# plt.show()\n",
    "print(\"Name: mean %.3f variance: %.3f\" % (np.mean(list(c.values())), np.var(list(c.values()))))"
   ]
  },
  {
   "cell_type": "code",
   "execution_count": 48,
   "metadata": {
    "collapsed": false
   },
   "outputs": [
    {
     "data": {
      "image/png": "[encoded data removed]",
      "text/plain": [
       "<matplotlib.figure.Figure at 0x203995e8208>"
      ]
     },
     "metadata": {},
     "output_type": "display_data"
    },
    {
     "name": "stdout",
     "output_type": "stream",
     "text": [
      "('Water', 112)\n",
      "('Normal', 98)\n",
      "('Grass', 70)\n",
      "('Bug', 69)\n",
      "('Psychic', 57)\n",
      "('Fire', 52)\n",
      "('Electric', 44)\n",
      "('Rock', 44)\n",
      "('Ghost', 32)\n",
      "('Dragon', 32)\n",
      "('Ground', 32)\n",
      "('Dark', 31)\n",
      "('Poison', 28)\n",
      "('Fighting', 27)\n",
      "('Steel', 27)\n",
      "('Ice', 24)\n",
      "('Fairy', 17)\n",
      "('Flying', 4)\n",
      "Name: mean 44.444 variance: 735.247\n"
     ]
    }
   ],
   "source": [
    "#plot type1 with bar chart.\n",
    "%matplotlib inline\n",
    "from collections import Counter\n",
    "import matplotlib.pyplot as plt\n",
    "c = Counter()\n",
    "for pokemon in pokemons:\n",
    "    my_attri = str(pokemon[attri_dict['Type 1']])\n",
    "    c.update([my_attri]) \n",
    "index = np.array(range(len(c)))\n",
    "# width = 0.35\n",
    "plt.bar(index, sorted(c.values(), reverse=True))\n",
    "# plt.xticks(index + width/2., [item for item in c.keys()])\n",
    "plt.xlabel('Type 1')\n",
    "plt.ylabel('count')\n",
    "plt.show()\n",
    "names = sorted(c.items(), key=lambda x: -x[1])\n",
    "for name in names:\n",
    "    print(name)\n",
    "print(\"Name: mean %.3f variance: %.3f\" % (np.mean(list(c.values())), np.var(list(c.values()))))"
   ]
  },
  {
   "cell_type": "code",
   "execution_count": 49,
   "metadata": {
    "collapsed": false
   },
   "outputs": [
    {
     "data": {
      "image/png": "[encoded data removed]",
      "text/plain": [
       "<matplotlib.figure.Figure at 0x20398a6b710>"
      ]
     },
     "metadata": {},
     "output_type": "display_data"
    },
    {
     "name": "stdout",
     "output_type": "stream",
     "text": [
      "(\"'?'\", 386)\n",
      "('Flying', 97)\n",
      "('Ground', 35)\n",
      "('Poison', 34)\n",
      "('Psychic', 33)\n",
      "('Fighting', 26)\n",
      "('Grass', 25)\n",
      "('Fairy', 23)\n",
      "('Steel', 22)\n",
      "('Dark', 20)\n",
      "('Dragon', 18)\n",
      "('Ghost', 14)\n",
      "('Ice', 14)\n",
      "('Water', 14)\n",
      "('Rock', 14)\n",
      "('Fire', 12)\n",
      "('Electric', 6)\n",
      "('Normal', 4)\n",
      "('Bug', 3)\n",
      "Name: mean 42.105 variance: 6958.831\n"
     ]
    }
   ],
   "source": [
    "#plot type2 with bar chart.\n",
    "%matplotlib inline\n",
    "from collections import Counter\n",
    "import matplotlib.pyplot as plt\n",
    "c = Counter()\n",
    "for pokemon in pokemons:\n",
    "    my_attri = str(pokemon[attri_dict['Type 2']])\n",
    "    c.update([my_attri]) \n",
    "index = np.array(range(len(c)))\n",
    "# width = 0.35\n",
    "plt.bar(index, sorted(c.values(), reverse=True))\n",
    "# plt.xticks(index + width/2., [item for item in c.keys()])\n",
    "plt.xlabel('Type 2')\n",
    "plt.ylabel('count')\n",
    "plt.show()\n",
    "names = sorted(c.items(), key=lambda x: -x[1])\n",
    "for name in names:\n",
    "    print(name)\n",
    "print(\"Name: mean %.3f variance: %.3f\" % (np.mean(list(c.values())), np.var(list(c.values()))))"
   ]
  },
  {
   "cell_type": "code",
   "execution_count": 50,
   "metadata": {
    "collapsed": false
   },
   "outputs": [
    {
     "data": {
      "image/png": "[encoded data removed]",
      "text/plain": [
       "<matplotlib.figure.Figure at 0x2039a0018d0>"
      ]
     },
     "metadata": {},
     "output_type": "display_data"
    },
    {
     "name": "stdout",
     "output_type": "stream",
     "text": [
      "Total: mean 4.000 variance: 24.690\n"
     ]
    }
   ],
   "source": [
    "#plot Total with bar chart.\n",
    "%matplotlib inline\n",
    "from collections import Counter\n",
    "import matplotlib.pyplot as plt\n",
    "c = Counter()\n",
    "for pokemon in pokemons:\n",
    "    my_attri = int(pokemon[attri_dict['Total']])\n",
    "    c.update([my_attri]) \n",
    "plt.hist(list(c.values()), bins=50)\n",
    "plt.xlabel('Total')\n",
    "plt.ylabel('count')\n",
    "plt.show()\n",
    "print(\"Total: mean %.3f variance: %.3f\" % (np.mean(list(c.values())), np.var(list(c.values()))))\n",
    "\n",
    "# plt.boxplot(list(c.values()))\n",
    "# plt.show()"
   ]
  },
  {
   "cell_type": "code",
   "execution_count": 51,
   "metadata": {
    "collapsed": false
   },
   "outputs": [
    {
     "data": {
      "image/png": "[encoded data removed]",
      "text/plain": [
       "<matplotlib.figure.Figure at 0x203994653c8>"
      ]
     },
     "metadata": {},
     "output_type": "display_data"
    },
    {
     "name": "stdout",
     "output_type": "stream",
     "text": [
      "HP: means 8.511 variance: 203.101\n"
     ]
    }
   ],
   "source": [
    "#plot HP with bar chart.\n",
    "%matplotlib inline\n",
    "from collections import Counter\n",
    "import matplotlib.pyplot as plt\n",
    "c = Counter()\n",
    "for pokemon in pokemons:\n",
    "    my_attri = int(pokemon[attri_dict['HP']])\n",
    "    c.update([my_attri]) \n",
    "plt.hist(list(c.values()), bins=50)\n",
    "plt.xlabel('HP')\n",
    "plt.ylabel('count')\n",
    "plt.show()\n",
    "print(\"HP: mean %.3f variance: %.3f\" % (np.mean(list(c.values())), np.var(list(c.values()))))\n",
    "\n",
    "# plt.boxplot(list(c.values()))\n",
    "# plt.show()"
   ]
  },
  {
   "cell_type": "code",
   "execution_count": 52,
   "metadata": {
    "collapsed": false
   },
   "outputs": [
    {
     "data": {
      "image/png": "[encoded data removed]",
      "text/plain": [
       "<matplotlib.figure.Figure at 0x203996fa8d0>"
      ]
     },
     "metadata": {},
     "output_type": "display_data"
    },
    {
     "name": "stdout",
     "output_type": "stream",
     "text": [
      "Attack: means 7.207 variance: 100.453\n"
     ]
    }
   ],
   "source": [
    "#plot Attack with bar chart.\n",
    "%matplotlib inline\n",
    "from collections import Counter\n",
    "import matplotlib.pyplot as plt\n",
    "c = Counter()\n",
    "for pokemon in pokemons:\n",
    "    my_attri = int(pokemon[attri_dict['Attack']])\n",
    "    c.update([my_attri]) \n",
    "plt.hist(list(c.values()), bins=50)\n",
    "plt.xlabel('Attack')\n",
    "plt.ylabel('count')\n",
    "plt.show()\n",
    "print(\"Attack: mean %.3f variance: %.3f\" % (np.mean(list(c.values())), np.var(list(c.values()))))\n",
    "\n",
    "# plt.boxplot(list(c.values()))\n",
    "# plt.show()"
   ]
  },
  {
   "cell_type": "code",
   "execution_count": 53,
   "metadata": {
    "collapsed": false
   },
   "outputs": [
    {
     "data": {
      "image/png": "[encoded data removed]",
      "text/plain": [
       "<matplotlib.figure.Figure at 0x20399e29e80>"
      ]
     },
     "metadata": {},
     "output_type": "display_data"
    },
    {
     "name": "stdout",
     "output_type": "stream",
     "text": [
      "Defense: means 7.767 variance: 139.247\n"
     ]
    }
   ],
   "source": [
    "#plot Defense with bar chart.\n",
    "%matplotlib inline\n",
    "from collections import Counter\n",
    "import matplotlib.pyplot as plt\n",
    "c = Counter()\n",
    "for pokemon in pokemons:\n",
    "    my_attri = int(pokemon[attri_dict['Defense']])\n",
    "    c.update([my_attri]) \n",
    "plt.hist(list(c.values()), bins=50)\n",
    "plt.xlabel('Defense')\n",
    "plt.ylabel('count')\n",
    "plt.show()\n",
    "print(\"Defense: mean %.3f variance: %.3f\" % (np.mean(list(c.values())), np.var(list(c.values()))))\n",
    "\n",
    "# plt.boxplot(list(c.values()))\n",
    "# plt.show()"
   ]
  },
  {
   "cell_type": "code",
   "execution_count": 54,
   "metadata": {
    "collapsed": false
   },
   "outputs": [
    {
     "data": {
      "image/png": "[encoded data removed]",
      "text/plain": [
       "<matplotlib.figure.Figure at 0x2039b3b11d0>"
      ]
     },
     "metadata": {},
     "output_type": "display_data"
    },
    {
     "name": "stdout",
     "output_type": "stream",
     "text": [
      "Sp. Atk: means 7.619 variance: 123.169\n"
     ]
    }
   ],
   "source": [
    "#plot Sp. Atk with bar chart.\n",
    "%matplotlib inline\n",
    "from collections import Counter\n",
    "import matplotlib.pyplot as plt\n",
    "c = Counter()\n",
    "for pokemon in pokemons:\n",
    "    my_attri = int(pokemon[attri_dict['Sp. Atk']])\n",
    "    c.update([my_attri]) \n",
    "plt.hist(list(c.values()), bins=50)\n",
    "plt.xlabel('Sp. Atk')\n",
    "plt.ylabel('count')\n",
    "plt.show()\n",
    "print(\"Sp. Atk: mean %.3f variance: %.3f\" % (np.mean(list(c.values())), np.var(list(c.values()))))\n",
    "\n",
    "# plt.boxplot(list(c.values()))\n",
    "# plt.show()"
   ]
  },
  {
   "cell_type": "code",
   "execution_count": 55,
   "metadata": {
    "collapsed": false
   },
   "outputs": [
    {
     "data": {
      "image/png": "[encoded data removed]",
      "text/plain": [
       "<matplotlib.figure.Figure at 0x2039b3e2438>"
      ]
     },
     "metadata": {},
     "output_type": "display_data"
    },
    {
     "name": "stdout",
     "output_type": "stream",
     "text": [
      "Sp. Def: means 8.696 variance: 172.038\n"
     ]
    }
   ],
   "source": [
    "#plot Sp. Def with bar chart.\n",
    "%matplotlib inline\n",
    "from collections import Counter\n",
    "import matplotlib.pyplot as plt\n",
    "c = Counter()\n",
    "for pokemon in pokemons:\n",
    "    my_attri = int(pokemon[attri_dict['Sp. Def']])\n",
    "    c.update([my_attri]) \n",
    "plt.hist(list(c.values()), bins=50)\n",
    "plt.xlabel('Sp. Def')\n",
    "plt.ylabel('count')\n",
    "plt.show()\n",
    "print(\"Sp. Def: mean %.3f variance: %.3f\" % (np.mean(list(c.values())), np.var(list(c.values()))))\n",
    "\n",
    "# plt.boxplot(list(c.values()))\n",
    "# plt.show()"
   ]
  },
  {
   "cell_type": "code",
   "execution_count": 56,
   "metadata": {
    "collapsed": false
   },
   "outputs": [
    {
     "data": {
      "image/png": "[encoded data removed]",
      "text/plain": [
       "<matplotlib.figure.Figure at 0x20399706b38>"
      ]
     },
     "metadata": {},
     "output_type": "display_data"
    },
    {
     "name": "stdout",
     "output_type": "stream",
     "text": [
      "Speed: means 7.407 variance: 109.927\n"
     ]
    }
   ],
   "source": [
    "#plot Sp. Def with bar chart.\n",
    "%matplotlib inline\n",
    "from collections import Counter\n",
    "import matplotlib.pyplot as plt\n",
    "c = Counter()\n",
    "for pokemon in pokemons:\n",
    "    my_attri = int(pokemon[attri_dict['Speed']])\n",
    "    c.update([my_attri]) \n",
    "plt.hist(list(c.values()), bins=50)\n",
    "plt.xlabel('Speed')\n",
    "plt.ylabel('count')\n",
    "plt.show()\n",
    "print(\"Speed: mean %.3f variance: %.3f\" % (np.mean(list(c.values())), np.var(list(c.values()))))\n",
    "\n",
    "# plt.boxplot(list(c.values()))\n",
    "# plt.show()"
   ]
  },
  {
   "cell_type": "code",
   "execution_count": null,
   "metadata": {
    "collapsed": true
   },
   "outputs": [],
   "source": []
  }
 ],
 "metadata": {
  "anaconda-cloud": {},
  "kernelspec": {
   "display_name": "Python [Root]",
   "language": "python",
   "name": "Python [Root]"
  },
  "language_info": {
   "codemirror_mode": {
    "name": "ipython",
    "version": 3
   },
   "file_extension": ".py",
   "mimetype": "text/x-python",
   "name": "python",
   "nbconvert_exporter": "python",
   "pygments_lexer": "ipython3",
   "version": "3.5.2"
  }
 },
 "nbformat": 4,
 "nbformat_minor": 0
}
