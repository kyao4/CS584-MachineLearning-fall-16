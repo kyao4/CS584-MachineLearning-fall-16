{
 "cells": [
  {
   "cell_type": "markdown",
   "metadata": {},
   "source": [
    "#  Legendary Pokemon Prediction"
   ]
  },
  {
   "cell_type": "markdown",
   "metadata": {},
   "source": [
    "Members: Kai Yao\n",
    "\n",
    "Dataset: [Pokemon](https://www.kaggle.com/abcsds/pokemon)\n",
    "\n",
    "Goal: predict the whether a pokemon is legendary or not from attributes of each pokenmon.\n",
    "\n",
    "\n",
    "Description:\n",
    "I am going to use the dataset that I downloaded from kaggle. This is a pokemon dataset with attributes like the HP, CP, attack speed, defense speed, type, generation of the pokemon. I decided to use these attributes to predict the Legendary for the pokemons. In general, the higher HP or CP a pokemon has, the higher its Legendary Degree is. We can use project to verify this assumption."
   ]
  },
  {
   "cell_type": "code",
   "execution_count": 1,
   "metadata": {
    "collapsed": false,
    "scrolled": true
   },
   "outputs": [
    {
     "name": "stdout",
     "output_type": "stream",
     "text": [
      "Total, HP, Attack, Defense, Sp. Atk, Sp. Def, Speed, Generation\n",
      "the number of instances:800 number of features:8\n",
      "target: Legendary\n"
     ]
    }
   ],
   "source": [
    "#load data from CSV file.\n",
    "import numpy as np\n",
    "import csv\n",
    "with open('data/Pokemon_output.csv', 'rt', encoding='utf-8') as fin:\n",
    "    cin = csv.reader(fin)\n",
    "    # data preprocessing\n",
    "    # delele #, Name, Type1, Type 2, because first 3 tend to overfit data and the last one contains too many misssing value\n",
    "    count = 0\n",
    "    pokemons = []\n",
    "    target = []\n",
    "    for row in cin:\n",
    "        if count == 0:\n",
    "            attri = row[4:-1]\n",
    "            count += 1\n",
    "            continue\n",
    "        pokemons.append(row[4:-1])\n",
    "        if row[-1] == 'False':\n",
    "            target.append(0)\n",
    "        elif row[-1] == \"True\":\n",
    "            target.append(1)\n",
    "        count += 1\n",
    "    pokemons = np.array(pokemons).astype(float)\n",
    "    target = np.array(target).astype(int)\n",
    "    print(\", \".join(attri))\n",
    "    print(\"the number of instances:%i number of features:%i\" % (len(pokemons), len(attri)))  \n",
    "    print(\"target: Legendary\")\n",
    "    attri_dict = {name:i for name, i in zip(attri, range(len(attri)))}"
   ]
  },
  {
   "cell_type": "code",
   "execution_count": 2,
   "metadata": {
    "collapsed": false
   },
   "outputs": [
    {
     "data": {
      "image/png": "[encoded data removed]",
      "text/plain": [
       "<matplotlib.figure.Figure at 0x24cb9db94e0>"
      ]
     },
     "metadata": {},
     "output_type": "display_data"
    }
   ],
   "source": [
    "#plot target with bar chart.\n",
    "%matplotlib inline\n",
    "from collections import Counter\n",
    "import matplotlib.pyplot as plt\n",
    "c = Counter()\n",
    "for each in target:\n",
    "    c.update([each]) \n",
    "vals = np.arange(2)\n",
    "width = -0.4\n",
    "plt.bar(vals + width, sorted(c.values(), reverse=True))\n",
    "plt.xticks(vals, ('False', 'True'))\n",
    "plt.xlabel('Legendary')\n",
    "plt.ylabel('count')\n",
    "plt.show()"
   ]
  },
  {
   "cell_type": "code",
   "execution_count": 3,
   "metadata": {
    "collapsed": false
   },
   "outputs": [
    {
     "data": {
      "image/png": "[encoded data removed]",
      "text/plain": [
       "<matplotlib.figure.Figure at 0x24cba0760b8>"
      ]
     },
     "metadata": {},
     "output_type": "display_data"
    },
    {
     "name": "stdout",
     "output_type": "stream",
     "text": [
      "Total: mean 4.000 variance: 24.690\n"
     ]
    }
   ],
   "source": [
    "#plot Total with bar chart.\n",
    "%matplotlib inline\n",
    "from collections import Counter\n",
    "import matplotlib.pyplot as plt\n",
    "c = Counter()\n",
    "for pokemon in pokemons:\n",
    "    my_attri = int(pokemon[attri_dict['Total']])\n",
    "    c.update([my_attri]) \n",
    "plt.hist(list(c.values()), bins=50)\n",
    "plt.xlabel('Total')\n",
    "plt.ylabel('count')\n",
    "plt.show()\n",
    "print(\"Total: mean %.3f variance: %.3f\" % (np.mean(list(c.values())), np.var(list(c.values()))))"
   ]
  },
  {
   "cell_type": "code",
   "execution_count": 4,
   "metadata": {
    "collapsed": false
   },
   "outputs": [
    {
     "data": {
      "image/png": "[encoded data removed]",
      "text/plain": [
       "<matplotlib.figure.Figure at 0x24cba076278>"
      ]
     },
     "metadata": {},
     "output_type": "display_data"
    },
    {
     "name": "stdout",
     "output_type": "stream",
     "text": [
      "HP: mean 8.511 variance: 203.101\n"
     ]
    }
   ],
   "source": [
    "#plot HP with bar chart.\n",
    "%matplotlib inline\n",
    "from collections import Counter\n",
    "import matplotlib.pyplot as plt\n",
    "c = Counter()\n",
    "for pokemon in pokemons:\n",
    "    my_attri = int(pokemon[attri_dict['HP']])\n",
    "    c.update([my_attri]) \n",
    "plt.hist(list(c.values()), bins=50)\n",
    "plt.xlabel('HP')\n",
    "plt.ylabel('count')\n",
    "plt.show()\n",
    "print(\"HP: mean %.3f variance: %.3f\" % (np.mean(list(c.values())), np.var(list(c.values()))))"
   ]
  },
  {
   "cell_type": "code",
   "execution_count": 5,
   "metadata": {
    "collapsed": false
   },
   "outputs": [
    {
     "data": {
      "image/png": "[encoded data removed]",
      "text/plain": [
       "<matplotlib.figure.Figure at 0x24cba9c45f8>"
      ]
     },
     "metadata": {},
     "output_type": "display_data"
    },
    {
     "name": "stdout",
     "output_type": "stream",
     "text": [
      "Attack: mean 7.207 variance: 100.453\n"
     ]
    }
   ],
   "source": [
    "#plot Attack with bar chart.\n",
    "%matplotlib inline\n",
    "from collections import Counter\n",
    "import matplotlib.pyplot as plt\n",
    "c = Counter()\n",
    "for pokemon in pokemons:\n",
    "    my_attri = int(pokemon[attri_dict['Attack']])\n",
    "    c.update([my_attri]) \n",
    "plt.hist(list(c.values()), bins=50)\n",
    "plt.xlabel('Attack')\n",
    "plt.ylabel('count')\n",
    "plt.show()\n",
    "print(\"Attack: mean %.3f variance: %.3f\" % (np.mean(list(c.values())), np.var(list(c.values()))))"
   ]
  },
  {
   "cell_type": "code",
   "execution_count": 6,
   "metadata": {
    "collapsed": false
   },
   "outputs": [
    {
     "data": {
      "image/png": "[encoded data removed]",
      "text/plain": [
       "<matplotlib.figure.Figure at 0x24cba7d8dd8>"
      ]
     },
     "metadata": {},
     "output_type": "display_data"
    },
    {
     "name": "stdout",
     "output_type": "stream",
     "text": [
      "Defense: mean 7.767 variance: 139.247\n"
     ]
    }
   ],
   "source": [
    "#plot Defense with bar chart.\n",
    "%matplotlib inline\n",
    "from collections import Counter\n",
    "import matplotlib.pyplot as plt\n",
    "c = Counter()\n",
    "for pokemon in pokemons:\n",
    "    my_attri = int(pokemon[attri_dict['Defense']])\n",
    "    c.update([my_attri]) \n",
    "plt.hist(list(c.values()), bins=50)\n",
    "plt.xlabel('Defense')\n",
    "plt.ylabel('count')\n",
    "plt.show()\n",
    "print(\"Defense: mean %.3f variance: %.3f\" % (np.mean(list(c.values())), np.var(list(c.values()))))"
   ]
  },
  {
   "cell_type": "code",
   "execution_count": 7,
   "metadata": {
    "collapsed": false
   },
   "outputs": [
    {
     "data": {
      "image/png": "[encoded data removed]",
      "text/plain": [
       "<matplotlib.figure.Figure at 0x24cba8721d0>"
      ]
     },
     "metadata": {},
     "output_type": "display_data"
    },
    {
     "name": "stdout",
     "output_type": "stream",
     "text": [
      "Sp. Atk: mean 7.619 variance: 123.169\n"
     ]
    }
   ],
   "source": [
    "#plot Sp. Atk with bar chart.\n",
    "%matplotlib inline\n",
    "from collections import Counter\n",
    "import matplotlib.pyplot as plt\n",
    "c = Counter()\n",
    "for pokemon in pokemons:\n",
    "    my_attri = int(pokemon[attri_dict['Sp. Atk']])\n",
    "    c.update([my_attri]) \n",
    "plt.hist(list(c.values()), bins=50)\n",
    "plt.xlabel('Sp. Atk')\n",
    "plt.ylabel('count')\n",
    "plt.show()\n",
    "print(\"Sp. Atk: mean %.3f variance: %.3f\" % (np.mean(list(c.values())), np.var(list(c.values()))))\n",
    "\n",
    "# plt.boxplot(list(c.values()))\n",
    "# plt.show()"
   ]
  },
  {
   "cell_type": "code",
   "execution_count": 8,
   "metadata": {
    "collapsed": false
   },
   "outputs": [
    {
     "data": {
      "image/png": "[encoded data removed]",
      "text/plain": [
       "<matplotlib.figure.Figure at 0x24cba835a58>"
      ]
     },
     "metadata": {},
     "output_type": "display_data"
    },
    {
     "name": "stdout",
     "output_type": "stream",
     "text": [
      "Sp. Def: mean 8.696 variance: 172.038\n"
     ]
    }
   ],
   "source": [
    "#plot Sp. Def with bar chart.\n",
    "%matplotlib inline\n",
    "from collections import Counter\n",
    "import matplotlib.pyplot as plt\n",
    "c = Counter()\n",
    "for pokemon in pokemons:\n",
    "    my_attri = int(pokemon[attri_dict['Sp. Def']])\n",
    "    c.update([my_attri]) \n",
    "plt.hist(list(c.values()), bins=50)\n",
    "plt.xlabel('Sp. Def')\n",
    "plt.ylabel('count')\n",
    "plt.show()\n",
    "print(\"Sp. Def: mean %.3f variance: %.3f\" % (np.mean(list(c.values())), np.var(list(c.values()))))\n",
    "\n",
    "# plt.boxplot(list(c.values()))\n",
    "# plt.show()"
   ]
  },
  {
   "cell_type": "code",
   "execution_count": 9,
   "metadata": {
    "collapsed": false
   },
   "outputs": [
    {
     "data": {
      "image/png": "[encoded data removed]",
      "text/plain": [
       "<matplotlib.figure.Figure at 0x24cba7cb668>"
      ]
     },
     "metadata": {},
     "output_type": "display_data"
    },
    {
     "name": "stdout",
     "output_type": "stream",
     "text": [
      "Speed: mean 7.407 variance: 109.927\n"
     ]
    }
   ],
   "source": [
    "#plot Speed with bar chart.\n",
    "%matplotlib inline\n",
    "from collections import Counter\n",
    "import matplotlib.pyplot as plt\n",
    "c = Counter()\n",
    "for pokemon in pokemons:\n",
    "    my_attri = int(pokemon[attri_dict['Speed']])\n",
    "    c.update([my_attri]) \n",
    "plt.hist(list(c.values()), bins=50)\n",
    "plt.xlabel('Speed')\n",
    "plt.ylabel('count')\n",
    "plt.show()\n",
    "print(\"Speed: mean %.3f variance: %.3f\" % (np.mean(list(c.values())), np.var(list(c.values()))))"
   ]
  },
  {
   "cell_type": "code",
   "execution_count": 10,
   "metadata": {
    "collapsed": false
   },
   "outputs": [
    {
     "data": {
      "image/png": "[encoded data removed]",
      "text/plain": [
       "<matplotlib.figure.Figure at 0x24cba9f2240>"
      ]
     },
     "metadata": {},
     "output_type": "display_data"
    },
    {
     "name": "stdout",
     "output_type": "stream",
     "text": [
      "(1, 166)\n",
      "(2, 106)\n",
      "(3, 160)\n",
      "(4, 121)\n",
      "(5, 165)\n",
      "(6, 82)\n"
     ]
    }
   ],
   "source": [
    "#plot Generation with bar chart.\n",
    "%matplotlib inline\n",
    "from collections import Counter\n",
    "import matplotlib.pyplot as plt\n",
    "c = Counter()\n",
    "for pokemon in pokemons:\n",
    "    my_attri = int(pokemon[attri_dict['Generation']])\n",
    "    c.update([my_attri]) \n",
    "index = sorted(c.keys())\n",
    "plt.bar(index, c.values())\n",
    "plt.xlabel('Generation')\n",
    "plt.ylabel('count')\n",
    "plt.show()\n",
    "names = sorted(c.items(), key=lambda x: x[0])\n",
    "for name in names:\n",
    "    print(name)"
   ]
  },
  {
   "cell_type": "markdown",
   "metadata": {},
   "source": [
    "# Performance"
   ]
  },
  {
   "cell_type": "markdown",
   "metadata": {},
   "source": [
    "Performance measure: Precision and accuracy"
   ]
  },
  {
   "cell_type": "code",
   "execution_count": 11,
   "metadata": {
    "collapsed": false
   },
   "outputs": [],
   "source": [
    "from sklearn import preprocessing\n",
    "from sklearn.metrics import accuracy_score\n",
    "from sklearn.metrics import precision_score\n",
    "#z-scoring\n",
    "X = preprocessing.scale(pokemons)\n",
    "y = target"
   ]
  },
  {
   "cell_type": "code",
   "execution_count": 12,
   "metadata": {
    "collapsed": false
   },
   "outputs": [
    {
     "name": "stdout",
     "output_type": "stream",
     "text": [
      "Majority Guess Accruacy: 0.91875\n",
      "Majority Guess Precision: 0.0\n"
     ]
    }
   ],
   "source": [
    "predict = [0 for _ in range(len(y))]\n",
    "score_acc = accuracy_score(predict, y)\n",
    "score_pre = precision_score(predict, y)\n",
    "print(\"Majority Guess Accruacy: %s\\nMajority Guess Precision: %s\" % (score_acc, score_pre))"
   ]
  },
  {
   "cell_type": "code",
   "execution_count": 13,
   "metadata": {
    "collapsed": false
   },
   "outputs": [
    {
     "name": "stdout",
     "output_type": "stream",
     "text": [
      "Random Guess Accruacy: 0.47375\n",
      "Random Guess Precision: 0.369230769231\n"
     ]
    }
   ],
   "source": [
    "import random\n",
    "def CV_accuracy_evaluation(predict, X, y, k):\n",
    "    return \n",
    "random.seed(1)\n",
    "predict = [random.choice([0, 1]) for _ in range(len(y))]\n",
    "score_acc = accuracy_score(predict, y)\n",
    "score_pre = precision_score(predict, y)\n",
    "print(\"Random Guess Accruacy: %s\\nRandom Guess Precision: %s\" % (score_acc, score_pre))"
   ]
  },
  {
   "cell_type": "code",
   "execution_count": 30,
   "metadata": {
    "collapsed": false,
    "scrolled": true
   },
   "outputs": [
    {
     "name": "stdout",
     "output_type": "stream",
     "text": [
      "Best parameter setting: penalty: 'l1', C: '20.0', fit_intercept: 'True', solver: 'liblinear'\n",
      "\n",
      "Accuracy: 0.94375\n",
      "\n",
      "Precision: 0.457467532468\n",
      "\n",
      "Coefficient Ranking:\n",
      "Attribute coefficient\n",
      "Speed, 1.3913\n",
      "Sp. Def, 1.0639\n",
      "Total, 1.0382\n",
      "Sp. Atk, 0.8008\n",
      "Defense, 0.7681\n",
      "HP, 0.6818\n",
      "Generation, 0.6811\n",
      "Attack, 0.0000\n"
     ]
    }
   ],
   "source": [
    "\n",
    "from sklearn.linear_model import LogisticRegression\n",
    "from sklearn.cross_validation import KFold\n",
    "\n",
    "\n",
    "def CV_precision(clf, X, y, k):\n",
    "    kf = KFold(len(y), n_folds=k)\n",
    "    scores = []\n",
    "    for train_index, test_index in kf:\n",
    "        X_train, X_test = X[train_index], X[test_index]\n",
    "        y_train, y_test = y[train_index], y[test_index]\n",
    "        clf.fit(X_train, y_train)\n",
    "        predict = clf.predict(X_test)\n",
    "        scores.append(precision_score(predict, y_test))\n",
    "    return np.mean(scores)\n",
    "\n",
    "\n",
    "def CV_accuracy(clf, X, y, k):\n",
    "    kf = KFold(len(y), n_folds=k)\n",
    "    scores = []\n",
    "    for train_index, test_index in kf:\n",
    "        X_train, X_test = X[train_index], X[test_index]\n",
    "        y_train, y_test = y[train_index], y[test_index]\n",
    "        clf.fit(X_train, y_train)\n",
    "        predict = clf.predict(X_test)\n",
    "        scores.append(accuracy_score(predict, y_test))\n",
    "    return np.mean(scores)\n",
    "\n",
    "\n",
    "\n",
    "def evluate_all_combs(X, y, reg, solver, C, intercept):\n",
    "    reg_solver = []\n",
    "    reg_solver.append((reg[0], solver[0]))\n",
    "    reg_solver.append((reg[1], solver[0]))\n",
    "    for i in range(1, len(solver)):\n",
    "        reg_solver.append((reg[1], solver[i]))\n",
    "    result = []\n",
    "    for reg, solver in reg_solver:\n",
    "        for c in C:\n",
    "            for inter_ in intercept:\n",
    "                clf = LogisticRegression(penalty=reg, C=c, fit_intercept=inter_, solver=solver, random_state=1)\n",
    "                setting = [reg, c, inter_, solver]\n",
    "                score_acc = CV_accuracy(clf, X, y, 5)\n",
    "                score_pre = CV_precision(clf, X, y, 5)\n",
    "                result.append((setting, score_acc, score_pre))\n",
    "    return result\n",
    "\n",
    "\n",
    "#looking for the best setting\n",
    "reg = ['l1', 'l2']\n",
    "solver = ['liblinear', 'lbfgs', 'sag', 'newton-cg']\n",
    "C = [1., 20., 25., 50., 100.]\n",
    "intercept = [True, False]\n",
    "result = evluate_all_combs(X, y, reg, solver, C, intercept)\n",
    "result = sorted(result, key=lambda x: (-x[1], -x[2]))\n",
    "# print(result)\n",
    "\n",
    "#use the best setting to predict\n",
    "reg, c, inter_, solver = result[0][0]\n",
    "clf = LogisticRegression(penalty=reg, C=c, fit_intercept=inter_, solver=solver, random_state=1)\n",
    "score_acc = CV_accuracy(clf, X, y, 5)  \n",
    "score_pre = CV_precision(clf, X, y, 5)\n",
    "\n",
    "print(\"Best parameter setting: penalty: '%s', C: '%s', fit_intercept: '%s', solver: '%s'\\n\" % (reg, c, inter_, solver))\n",
    "print(\"Accuracy: %s\\n\" % score_acc)\n",
    "print(\"Precision: %s\\n\" % score_pre)\n",
    "print(\"Coefficient Ranking:\")\n",
    "print(\"Attribute\", \"coefficient\")\n",
    "\n",
    "coefficients = [(attri[0], each) for each, attri in zip(clf.coef_[0], sorted(attri_dict.items(), key=lambda x:x[1]))]\n",
    "coefficients = sorted(coefficients, key=lambda x: -x[1])\n",
    "for coef in coefficients:\n",
    "    print(\"%s, %.4f\" % (coef[0], coef[1]))\n"
   ]
  },
  {
   "cell_type": "code",
   "execution_count": 27,
   "metadata": {
    "collapsed": false
   },
   "outputs": [
    {
     "name": "stdout",
     "output_type": "stream",
     "text": [
      "Accuracy: 0.9325\n",
      "\n",
      "Precision: 0.922222222222\n",
      "\n",
      "[('Total', 0), ('HP', 1), ('Attack', 2), ('Defense', 3), ('Sp. Atk', 4), ('Sp. Def', 5), ('Speed', 6), ('Generation', 7)]\n",
      "Mean of attributes for False: \n",
      "[-0.16111057 -0.0959308  -0.10047782 -0.08406235 -0.14534347 -0.13056257\n",
      " -0.08966689 -0.33725662]\n",
      "Variance of attributes for False: \n",
      "[ 0.82467022  1.00646308  0.93628909  1.00578789  0.80625755  0.85329032\n",
      "  0.92212457  0.70473016]\n",
      "\n",
      "Mean of attributes for True: \n",
      "[ 1.72653189  0.91849976  1.06176688  0.91845116  1.48682355  1.34810512\n",
      "  1.18357212 -0.22301535]\n",
      "Variance of attributes for True: \n",
      "[ 0.29756991  0.69970789  1.0314206   0.92249551  1.0057404   1.28450734\n",
      "  0.75425514  0.38731323]\n",
      "\n"
     ]
    }
   ],
   "source": [
    "#Gaussian Naive Bayes \n",
    "\n",
    "# c = Counter()\n",
    "# for each in target:\n",
    "#     c.update([each])\n",
    "# print(c.keys())\n",
    "# prob_True = c[1]/sum(c.values())\n",
    "# prob_False = c[0]/sum(c.values())\n",
    "\n",
    "from sklearn.naive_bayes import GaussianNB\n",
    "\n",
    "clf = GaussianNB()\n",
    "score_acc = CV_accuracy(clf, X, y, 5)  \n",
    "score_pre = CV_precision(clf, X, y, 5)\n",
    "print(\"Accuracy: %s\\n\" % score_acc)\n",
    "print(\"Precision: %s\\n\" % score_pre)\n",
    "print(sorted(attri_dict.items(), key=lambda x:x[1]))\n",
    "print(\"Mean of attributes for False: \\n%s\\nVariance of attributes for False: \\n%s\\n\" % (clf.theta_[0], clf.sigma_[0]))\n",
    "      \n",
    "      \n",
    "print(\"Mean of attributes for True: \\n%s\\nVariance of attributes for True: \\n%s\\n\" % (clf.theta_[1], clf.sigma_[1]))"
   ]
  },
  {
   "cell_type": "code",
   "execution_count": null,
   "metadata": {
    "collapsed": true
   },
   "outputs": [],
   "source": []
  }
 ],
 "metadata": {
  "anaconda-cloud": {},
  "kernelspec": {
   "display_name": "Python [Root]",
   "language": "python",
   "name": "Python [Root]"
  },
  "language_info": {
   "codemirror_mode": {
    "name": "ipython",
    "version": 3
   },
   "file_extension": ".py",
   "mimetype": "text/x-python",
   "name": "python",
   "nbconvert_exporter": "python",
   "pygments_lexer": "ipython3",
   "version": "3.5.2"
  }
 },
 "nbformat": 4,
 "nbformat_minor": 0
}
