{
 "cells": [
  {
   "cell_type": "code",
   "execution_count": 3,
   "metadata": {
    "collapsed": false,
    "scrolled": true
   },
   "outputs": [
    {
     "name": "stdout",
     "output_type": "stream",
     "text": [
      "#, Name, Type 1, Type 2, Total, HP, Attack, Defense, Sp. Atk, Sp. Def, Speed, Generation\n",
      "the number of instances:796 number of features:12\n"
     ]
    }
   ],
   "source": [
    "#load data from CSV file.\n",
    "import numpy as np\n",
    "import csv\n",
    "with open('Pokemon.csv', 'rt', encoding='utf-8') as fin:\n",
    "    cin = csv.reader(fin)\n",
    "    pokemons = [row for row in cin]\n",
    "    attri = pokemons[0]\n",
    "    attri_dict = {attri:i for attri, i in zip(pokemons[0], range(len(pokemons[0])))}\n",
    "    del pokemons[0]\n",
    "print(\", \".join(attri))\n",
    "print(\"the number of instances:%i number of features:%i\" % (len(pokemons), len(attri)))\n",
    "# data only contain the attributes and the data we are interested in."
   ]
  },
  {
   "cell_type": "code",
   "execution_count": 4,
   "metadata": {
    "collapsed": false
   },
   "outputs": [
    {
     "data": {
      "image/png": "[encoded data removed]",
      "text/plain": [
       "<matplotlib.figure.Figure at 0x2aec29c4208>"
      ]
     },
     "metadata": {},
     "output_type": "display_data"
    }
   ],
   "source": [
    "#plot target with bar chart.\n",
    "%matplotlib inline\n",
    "from collections import Counter\n",
    "import matplotlib.pyplot as plt\n",
    "gen_c = Counter()\n",
    "for pokemon in pokemons:\n",
    "    gen = int(pokemon[attri_dict['Generation']])\n",
    "    gen_c.update([gen]) \n",
    "vals = sorted(gen_c.keys())\n",
    "plt.bar(vals, gen_c.values())\n",
    "plt.xticks(vals)\n",
    "plt.xlabel('Generation')\n",
    "plt.ylabel('count')\n",
    "plt.show()"
   ]
  },
  {
   "cell_type": "code",
   "execution_count": 5,
   "metadata": {
    "collapsed": false
   },
   "outputs": [
    {
     "name": "stdout",
     "output_type": "stream",
     "text": [
      "ID: means 1.110 variance: 0.162\n"
     ]
    }
   ],
   "source": [
    "# we are not interested in ID, so we can just print the statistics for it.\n",
    "c = Counter()\n",
    "for pokemon in pokemons:\n",
    "    my_attri = int(pokemon[attri_dict['#']])\n",
    "    c.update([my_attri]) \n",
    "vals = np.array(list(c.values()))\n",
    "print(\"ID: means %.3f variance: %.3f\" % (np.mean(vals), np.var(vals)))"
   ]
  },
  {
   "cell_type": "code",
   "execution_count": 6,
   "metadata": {
    "collapsed": false
   },
   "outputs": [
    {
     "name": "stdout",
     "output_type": "stream",
     "text": [
      "Name: means 1.000 variance: 0.000\n"
     ]
    }
   ],
   "source": [
    "# we are not interested in Name, so we can just print the statistics for it.\n",
    "c = Counter()\n",
    "for pokemon in pokemons:\n",
    "    my_attri = str(pokemon[attri_dict['Name']])\n",
    "    c.update([my_attri]) \n",
    "vals = np.array(list(c.values()))\n",
    "print(\"Name: means %.3f variance: %.3f\" % (np.mean(vals), np.var(vals)))"
   ]
  },
  {
   "cell_type": "code",
   "execution_count": 7,
   "metadata": {
    "collapsed": false
   },
   "outputs": [
    {
     "data": {
      "image/png": "[encoded data removed]",
      "text/plain": [
       "<matplotlib.figure.Figure at 0x2aec29c4278>"
      ]
     },
     "metadata": {},
     "output_type": "display_data"
    },
    {
     "name": "stdout",
     "output_type": "stream",
     "text": [
      "('Water', 112)\n",
      "('Normal', 97)\n",
      "('Grass', 70)\n",
      "('Bug', 69)\n",
      "('Psychic', 57)\n",
      "('Fire', 51)\n",
      "('Electric', 44)\n",
      "('Rock', 44)\n",
      "('Ghost', 32)\n",
      "('Ground', 32)\n",
      "('Dark', 31)\n",
      "('Dragon', 31)\n",
      "('Fighting', 27)\n",
      "('Poison', 27)\n",
      "('Steel', 27)\n",
      "('Ice', 24)\n",
      "('Fairy', 17)\n",
      "('Flying', 4)\n",
      "Name: means 44.222 variance: 731.840\n"
     ]
    }
   ],
   "source": [
    "#plot type1 with bar chart.\n",
    "%matplotlib inline\n",
    "from collections import Counter\n",
    "import matplotlib.pyplot as plt\n",
    "c = Counter()\n",
    "for pokemon in pokemons:\n",
    "    my_attri = str(pokemon[attri_dict['Type 1']])\n",
    "    c.update([my_attri]) \n",
    "index = np.array(range(len(c)))\n",
    "# width = 0.35\n",
    "plt.bar(index, c.values())\n",
    "# plt.xticks(index + width/2., [item for item in c.keys()])\n",
    "plt.xlabel('Type 1')\n",
    "plt.ylabel('count')\n",
    "plt.show()\n",
    "names = sorted(c.items(), key=lambda x: -x[1])\n",
    "for name in names:\n",
    "    print(name)\n",
    "print(\"Name: means %.3f variance: %.3f\" % (np.mean(list(c.values())), np.var(list(c.values()))))"
   ]
  },
  {
   "cell_type": "code",
   "execution_count": 8,
   "metadata": {
    "collapsed": false
   },
   "outputs": [
    {
     "data": {
      "image/png": "[encoded data removed]",
      "text/plain": [
       "<matplotlib.figure.Figure at 0x2aec4a74be0>"
      ]
     },
     "metadata": {},
     "output_type": "display_data"
    },
    {
     "name": "stdout",
     "output_type": "stream",
     "text": [
      "(\"'?'\", 384)\n",
      "('Flying', 96)\n",
      "('Poison', 34)\n",
      "('Ground', 34)\n",
      "('Psychic', 33)\n",
      "('Fighting', 26)\n",
      "('Grass', 25)\n",
      "('Fairy', 23)\n",
      "('Steel', 22)\n",
      "('Dark', 20)\n",
      "('Dragon', 18)\n",
      "('Ice', 14)\n",
      "('Ghost', 14)\n",
      "('Water', 14)\n",
      "('Rock', 14)\n",
      "('Fire', 12)\n",
      "('Electric', 6)\n",
      "('Normal', 4)\n",
      "('Bug', 3)\n",
      "Name: means 41.895 variance: 6881.673\n"
     ]
    }
   ],
   "source": [
    "#plot type2 with bar chart.\n",
    "%matplotlib inline\n",
    "from collections import Counter\n",
    "import matplotlib.pyplot as plt\n",
    "c = Counter()\n",
    "for pokemon in pokemons:\n",
    "    my_attri = str(pokemon[attri_dict['Type 2']])\n",
    "    c.update([my_attri]) \n",
    "index = np.array(range(len(c)))\n",
    "# width = 0.35\n",
    "plt.bar(index, c.values())\n",
    "# plt.xticks(index + width/2., [item for item in c.keys()])\n",
    "plt.xlabel('Type 2')\n",
    "plt.ylabel('count')\n",
    "plt.show()\n",
    "names = sorted(c.items(), key=lambda x: -x[1])\n",
    "for name in names:\n",
    "    print(name)\n",
    "print(\"Name: means %.3f variance: %.3f\" % (np.mean(list(c.values())), np.var(list(c.values()))))"
   ]
  },
  {
   "cell_type": "code",
   "execution_count": 11,
   "metadata": {
    "collapsed": false
   },
   "outputs": [
    {
     "data": {
      "image/png": "[encoded data removed]",
      "text/plain": [
       "<matplotlib.figure.Figure at 0x2aec4a3d400>"
      ]
     },
     "metadata": {},
     "output_type": "display_data"
    },
    {
     "name": "stdout",
     "output_type": "stream",
     "text": [
      "Total: means 4.000 variance: 24.312\n"
     ]
    },
    {
     "data": {
      "image/png": "[encoded data removed]",
      "text/plain": [
       "<matplotlib.figure.Figure at 0x2aec4cc9cc0>"
      ]
     },
     "metadata": {},
     "output_type": "display_data"
    }
   ],
   "source": [
    "#plot Total with bar chart.\n",
    "%matplotlib inline\n",
    "from collections import Counter\n",
    "import matplotlib.pyplot as plt\n",
    "c = Counter()\n",
    "for pokemon in pokemons:\n",
    "    my_attri = int(pokemon[attri_dict['Total']])\n",
    "    c.update([my_attri]) \n",
    "plt.hist(list(c.values()), bins=50)\n",
    "plt.xlabel('Total')\n",
    "plt.ylabel('count')\n",
    "plt.show()\n",
    "print(\"Total: means %.3f variance: %.3f\" % (np.mean(list(c.values())), np.var(list(c.values()))))\n",
    "\n",
    "plt.boxplot(list(c.values()))\n",
    "plt.show()"
   ]
  },
  {
   "cell_type": "code",
   "execution_count": 14,
   "metadata": {
    "collapsed": false
   },
   "outputs": [
    {
     "data": {
      "image/png": "[encoded data removed]",
      "text/plain": [
       "<matplotlib.figure.Figure at 0x2aec4a300b8>"
      ]
     },
     "metadata": {},
     "output_type": "display_data"
    },
    {
     "name": "stdout",
     "output_type": "stream",
     "text": [
      "HP: means 8.468 variance: 203.228\n"
     ]
    },
    {
     "data": {
      "image/png": "[encoded data removed]",
      "text/plain": [
       "<matplotlib.figure.Figure at 0x2aec4bc09b0>"
      ]
     },
     "metadata": {},
     "output_type": "display_data"
    }
   ],
   "source": [
    "#plot HP with bar chart.\n",
    "%matplotlib inline\n",
    "from collections import Counter\n",
    "import matplotlib.pyplot as plt\n",
    "c = Counter()\n",
    "for pokemon in pokemons:\n",
    "    my_attri = int(pokemon[attri_dict['HP']])\n",
    "    c.update([my_attri]) \n",
    "plt.hist(list(c.values()), bins=50)\n",
    "plt.xlabel('HP')\n",
    "plt.ylabel('count')\n",
    "plt.show()\n",
    "print(\"HP: means %.3f variance: %.3f\" % (np.mean(list(c.values())), np.var(list(c.values()))))\n",
    "\n",
    "plt.boxplot(list(c.values()))\n",
    "plt.show()"
   ]
  },
  {
   "cell_type": "code",
   "execution_count": 15,
   "metadata": {
    "collapsed": false
   },
   "outputs": [
    {
     "data": {
      "image/png": "[encoded data removed]",
      "text/plain": [
       "<matplotlib.figure.Figure at 0x2aec4bd4b38>"
      ]
     },
     "metadata": {},
     "output_type": "display_data"
    },
    {
     "name": "stdout",
     "output_type": "stream",
     "text": [
      "Attack: means 7.171 variance: 99.331\n"
     ]
    },
    {
     "data": {
      "image/png": "[encoded data removed]",
      "text/plain": [
       "<matplotlib.figure.Figure at 0x2aec4bf9630>"
      ]
     },
     "metadata": {},
     "output_type": "display_data"
    }
   ],
   "source": [
    "#plot Attack with bar chart.\n",
    "%matplotlib inline\n",
    "from collections import Counter\n",
    "import matplotlib.pyplot as plt\n",
    "c = Counter()\n",
    "for pokemon in pokemons:\n",
    "    my_attri = int(pokemon[attri_dict['Attack']])\n",
    "    c.update([my_attri]) \n",
    "plt.hist(list(c.values()), bins=50)\n",
    "plt.xlabel('Attack')\n",
    "plt.ylabel('count')\n",
    "plt.show()\n",
    "print(\"Attack: means %.3f variance: %.3f\" % (np.mean(list(c.values())), np.var(list(c.values()))))\n",
    "\n",
    "plt.boxplot(list(c.values()))\n",
    "plt.show()"
   ]
  },
  {
   "cell_type": "code",
   "execution_count": 16,
   "metadata": {
    "collapsed": false
   },
   "outputs": [
    {
     "data": {
      "image/png": "[encoded data removed]",
      "text/plain": [
       "<matplotlib.figure.Figure at 0x2aec4c1a4a8>"
      ]
     },
     "metadata": {},
     "output_type": "display_data"
    },
    {
     "name": "stdout",
     "output_type": "stream",
     "text": [
      "Defense: means 7.804 variance: 138.197\n"
     ]
    },
    {
     "data": {
      "image/png": "[encoded data removed]",
      "text/plain": [
       "<matplotlib.figure.Figure at 0x2aec4c06e80>"
      ]
     },
     "metadata": {},
     "output_type": "display_data"
    }
   ],
   "source": [
    "#plot Defense with bar chart.\n",
    "%matplotlib inline\n",
    "from collections import Counter\n",
    "import matplotlib.pyplot as plt\n",
    "c = Counter()\n",
    "for pokemon in pokemons:\n",
    "    my_attri = int(pokemon[attri_dict['Defense']])\n",
    "    c.update([my_attri]) \n",
    "plt.hist(list(c.values()), bins=50)\n",
    "plt.xlabel('Defense')\n",
    "plt.ylabel('count')\n",
    "plt.show()\n",
    "print(\"Defense: means %.3f variance: %.3f\" % (np.mean(list(c.values())), np.var(list(c.values()))))\n",
    "\n",
    "plt.boxplot(list(c.values()))\n",
    "plt.show()"
   ]
  },
  {
   "cell_type": "code",
   "execution_count": 17,
   "metadata": {
    "collapsed": false
   },
   "outputs": [
    {
     "data": {
      "image/png": "[encoded data removed]",
      "text/plain": [
       "<matplotlib.figure.Figure at 0x2aec4b95c18>"
      ]
     },
     "metadata": {},
     "output_type": "display_data"
    },
    {
     "name": "stdout",
     "output_type": "stream",
     "text": [
      "Sp. Atk: means 7.581 variance: 122.301\n"
     ]
    },
    {
     "data": {
      "image/png": "[encoded data removed]",
      "text/plain": [
       "<matplotlib.figure.Figure at 0x2aec4a60550>"
      ]
     },
     "metadata": {},
     "output_type": "display_data"
    }
   ],
   "source": [
    "#plot Sp. Atk with bar chart.\n",
    "%matplotlib inline\n",
    "from collections import Counter\n",
    "import matplotlib.pyplot as plt\n",
    "c = Counter()\n",
    "for pokemon in pokemons:\n",
    "    my_attri = int(pokemon[attri_dict['Sp. Atk']])\n",
    "    c.update([my_attri]) \n",
    "plt.hist(list(c.values()), bins=50)\n",
    "plt.xlabel('Sp. Atk')\n",
    "plt.ylabel('count')\n",
    "plt.show()\n",
    "print(\"Sp. Atk: means %.3f variance: %.3f\" % (np.mean(list(c.values())), np.var(list(c.values()))))\n",
    "\n",
    "plt.boxplot(list(c.values()))\n",
    "plt.show()"
   ]
  },
  {
   "cell_type": "code",
   "execution_count": 18,
   "metadata": {
    "collapsed": false
   },
   "outputs": [
    {
     "data": {
      "image/png": "[encoded data removed]",
      "text/plain": [
       "<matplotlib.figure.Figure at 0x2aec4b2dd68>"
      ]
     },
     "metadata": {},
     "output_type": "display_data"
    },
    {
     "name": "stdout",
     "output_type": "stream",
     "text": [
      "Sp. Def: means 8.652 variance: 170.618\n"
     ]
    },
    {
     "data": {
      "image/png": "[encoded data removed]",
      "text/plain": [
       "<matplotlib.figure.Figure at 0x2aec4c74f60>"
      ]
     },
     "metadata": {},
     "output_type": "display_data"
    }
   ],
   "source": [
    "#plot Sp. Def with bar chart.\n",
    "%matplotlib inline\n",
    "from collections import Counter\n",
    "import matplotlib.pyplot as plt\n",
    "c = Counter()\n",
    "for pokemon in pokemons:\n",
    "    my_attri = int(pokemon[attri_dict['Sp. Def']])\n",
    "    c.update([my_attri]) \n",
    "plt.hist(list(c.values()), bins=50)\n",
    "plt.xlabel('Sp. Def')\n",
    "plt.ylabel('count')\n",
    "plt.show()\n",
    "print(\"Sp. Def: means %.3f variance: %.3f\" % (np.mean(list(c.values())), np.var(list(c.values()))))\n",
    "\n",
    "plt.boxplot(list(c.values()))\n",
    "plt.show()"
   ]
  },
  {
   "cell_type": "code",
   "execution_count": 19,
   "metadata": {
    "collapsed": false
   },
   "outputs": [
    {
     "data": {
      "image/png": "[encoded data removed]",
      "text/plain": [
       "<matplotlib.figure.Figure at 0x2aec4e09128>"
      ]
     },
     "metadata": {},
     "output_type": "display_data"
    },
    {
     "name": "stdout",
     "output_type": "stream",
     "text": [
      "Speed: means 7.370 variance: 108.029\n"
     ]
    },
    {
     "data": {
      "image/png": "[encoded data removed]",
      "text/plain": [
       "<matplotlib.figure.Figure at 0x2aec4c82b38>"
      ]
     },
     "metadata": {},
     "output_type": "display_data"
    }
   ],
   "source": [
    "#plot Sp. Def with bar chart.\n",
    "%matplotlib inline\n",
    "from collections import Counter\n",
    "import matplotlib.pyplot as plt\n",
    "c = Counter()\n",
    "for pokemon in pokemons:\n",
    "    my_attri = int(pokemon[attri_dict['Speed']])\n",
    "    c.update([my_attri]) \n",
    "plt.hist(list(c.values()), bins=50)\n",
    "plt.xlabel('Speed')\n",
    "plt.ylabel('count')\n",
    "plt.show()\n",
    "print(\"Speed: means %.3f variance: %.3f\" % (np.mean(list(c.values())), np.var(list(c.values()))))\n",
    "\n",
    "plt.boxplot(list(c.values()))\n",
    "plt.show()"
   ]
  },
  {
   "cell_type": "code",
   "execution_count": null,
   "metadata": {
    "collapsed": true
   },
   "outputs": [],
   "source": []
  }
 ],
 "metadata": {
  "anaconda-cloud": {},
  "kernelspec": {
   "display_name": "Python [Root]",
   "language": "python",
   "name": "Python [Root]"
  },
  "language_info": {
   "codemirror_mode": {
    "name": "ipython",
    "version": 3
   },
   "file_extension": ".py",
   "mimetype": "text/x-python",
   "name": "python",
   "nbconvert_exporter": "python",
   "pygments_lexer": "ipython3",
   "version": "3.5.2"
  }
 },
 "nbformat": 4,
 "nbformat_minor": 0
}
